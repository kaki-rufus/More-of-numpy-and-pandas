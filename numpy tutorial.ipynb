{
 "cells": [
  {
   "cell_type": "markdown",
   "id": "27da1562",
   "metadata": {},
   "source": [
    "# numpy are faster than lists\n",
    "# they utilise contigouus memory \n",
    "# there is inertion, deletion, appending and concatenation and lots more\n",
    "# its a mathematics( MATLAB CALCULATION)\n",
    "# plotting - matplotblib\n",
    "# backend - pandas\n",
    "# machine learning: tensors connected to numpy libraries"
   ]
  },
  {
   "cell_type": "code",
   "execution_count": 1,
   "id": "302cd2bd",
   "metadata": {},
   "outputs": [],
   "source": [
    "import numpy as np"
   ]
  },
  {
   "cell_type": "code",
   "execution_count": 3,
   "id": "ec1002ef",
   "metadata": {},
   "outputs": [
    {
     "name": "stdout",
     "output_type": "stream",
     "text": [
      "[1 2 4]\n"
     ]
    }
   ],
   "source": [
    "a = np.array([1,2,4])\n",
    "a\n",
    "print(a)"
   ]
  },
  {
   "cell_type": "code",
   "execution_count": 5,
   "id": "eef06201",
   "metadata": {},
   "outputs": [
    {
     "data": {
      "text/plain": [
       "array([[1., 2., 3., 4.],\n",
       "       [5., 6., 7., 8.]])"
      ]
     },
     "execution_count": 5,
     "metadata": {},
     "output_type": "execute_result"
    }
   ],
   "source": [
    "b = np.array([[1,2,3,4],[5,6,7,8]], dtype='float64')\n",
    "b"
   ]
  },
  {
   "cell_type": "code",
   "execution_count": 6,
   "id": "5af3f679",
   "metadata": {},
   "outputs": [
    {
     "name": "stdout",
     "output_type": "stream",
     "text": [
      "1\n",
      "2\n"
     ]
    }
   ],
   "source": [
    "# dimensions\n",
    "print(a.ndim)\n",
    "print(b.ndim)"
   ]
  },
  {
   "cell_type": "code",
   "execution_count": 7,
   "id": "35b2cdbb",
   "metadata": {},
   "outputs": [
    {
     "name": "stdout",
     "output_type": "stream",
     "text": [
      "(3,)\n",
      "(2, 4)\n"
     ]
    }
   ],
   "source": [
    "# shape\n",
    "print(a.shape)\n",
    "print(b.shape)"
   ]
  },
  {
   "cell_type": "code",
   "execution_count": 8,
   "id": "bcff68be",
   "metadata": {},
   "outputs": [
    {
     "data": {
      "text/plain": [
       "dtype('int32')"
      ]
     },
     "execution_count": 8,
     "metadata": {},
     "output_type": "execute_result"
    }
   ],
   "source": [
    "# type (4 bytes for int 32)\n",
    "a.dtype"
   ]
  },
  {
   "cell_type": "code",
   "execution_count": 9,
   "id": "284a29c4",
   "metadata": {},
   "outputs": [
    {
     "data": {
      "text/plain": [
       "4"
      ]
     },
     "execution_count": 9,
     "metadata": {},
     "output_type": "execute_result"
    }
   ],
   "source": [
    "# get size (4 bytes for int 32)\n",
    "a.itemsize"
   ]
  },
  {
   "cell_type": "code",
   "execution_count": 10,
   "id": "685d2a2e",
   "metadata": {},
   "outputs": [
    {
     "data": {
      "text/plain": [
       "12"
      ]
     },
     "execution_count": 10,
     "metadata": {},
     "output_type": "execute_result"
    }
   ],
   "source": [
    "# total size\n",
    "a.nbytes"
   ]
  },
  {
   "cell_type": "code",
   "execution_count": 11,
   "id": "608de7cd",
   "metadata": {},
   "outputs": [
    {
     "data": {
      "text/plain": [
       "3"
      ]
     },
     "execution_count": 11,
     "metadata": {},
     "output_type": "execute_result"
    }
   ],
   "source": [
    "# size or number of elements\n",
    "a.size"
   ]
  },
  {
   "cell_type": "code",
   "execution_count": 12,
   "id": "b18cfa3e",
   "metadata": {},
   "outputs": [
    {
     "data": {
      "text/plain": [
       "12"
      ]
     },
     "execution_count": 12,
     "metadata": {},
     "output_type": "execute_result"
    }
   ],
   "source": [
    "# totol size\n",
    "a.size * a.itemsize"
   ]
  },
  {
   "cell_type": "code",
   "execution_count": 13,
   "id": "7037c50a",
   "metadata": {},
   "outputs": [
    {
     "data": {
      "text/plain": [
       "dtype('float64')"
      ]
     },
     "execution_count": 13,
     "metadata": {},
     "output_type": "execute_result"
    }
   ],
   "source": [
    "b.dtype"
   ]
  },
  {
   "cell_type": "code",
   "execution_count": 14,
   "id": "939c8bc6",
   "metadata": {},
   "outputs": [
    {
     "data": {
      "text/plain": [
       "64"
      ]
     },
     "execution_count": 14,
     "metadata": {},
     "output_type": "execute_result"
    }
   ],
   "source": [
    "b.nbytes"
   ]
  },
  {
   "cell_type": "code",
   "execution_count": 15,
   "id": "d60f8ea6",
   "metadata": {},
   "outputs": [
    {
     "data": {
      "text/plain": [
       "8"
      ]
     },
     "execution_count": 15,
     "metadata": {},
     "output_type": "execute_result"
    }
   ],
   "source": [
    "b.itemsize"
   ]
  },
  {
   "cell_type": "code",
   "execution_count": 16,
   "id": "fa3b9913",
   "metadata": {},
   "outputs": [
    {
     "data": {
      "text/plain": [
       "8"
      ]
     },
     "execution_count": 16,
     "metadata": {},
     "output_type": "execute_result"
    }
   ],
   "source": [
    "b.size"
   ]
  },
  {
   "cell_type": "code",
   "execution_count": 17,
   "id": "34e8fcd8",
   "metadata": {},
   "outputs": [
    {
     "data": {
      "text/plain": [
       "6.0"
      ]
     },
     "execution_count": 17,
     "metadata": {},
     "output_type": "execute_result"
    }
   ],
   "source": [
    "# get specific element\n",
    "b[1,1]"
   ]
  },
  {
   "cell_type": "code",
   "execution_count": 18,
   "id": "a804a431",
   "metadata": {},
   "outputs": [
    {
     "data": {
      "text/plain": [
       "array([5., 6., 7., 8.])"
      ]
     },
     "execution_count": 18,
     "metadata": {},
     "output_type": "execute_result"
    }
   ],
   "source": [
    "# get a specific row\n",
    "b[1, :]"
   ]
  },
  {
   "cell_type": "code",
   "execution_count": 19,
   "id": "2c0a4032",
   "metadata": {},
   "outputs": [
    {
     "data": {
      "text/plain": [
       "array([4., 8.])"
      ]
     },
     "execution_count": 19,
     "metadata": {},
     "output_type": "execute_result"
    }
   ],
   "source": [
    "# get a specific column\n",
    "b[:, 3]"
   ]
  },
  {
   "cell_type": "code",
   "execution_count": 23,
   "id": "2d8a9571",
   "metadata": {},
   "outputs": [
    {
     "name": "stdout",
     "output_type": "stream",
     "text": [
      "[[1. 2. 3. 4.]\n",
      " [5. 6. 7. 8.]]\n"
     ]
    }
   ],
   "source": [
    "print(b)"
   ]
  },
  {
   "cell_type": "code",
   "execution_count": 24,
   "id": "f20493e2",
   "metadata": {},
   "outputs": [
    {
     "data": {
      "text/plain": [
       "array([5., 7.])"
      ]
     },
     "execution_count": 24,
     "metadata": {},
     "output_type": "execute_result"
    }
   ],
   "source": [
    "# start index, end index, step\n",
    "b[1, 0:3:2]"
   ]
  },
  {
   "cell_type": "markdown",
   "id": "3b2547b3",
   "metadata": {},
   "source": [
    "### 3-d numpy"
   ]
  },
  {
   "cell_type": "code",
   "execution_count": 25,
   "id": "ceb98c2b",
   "metadata": {},
   "outputs": [
    {
     "name": "stdout",
     "output_type": "stream",
     "text": [
      "[[[1 2]\n",
      "  [3 4]]\n",
      "\n",
      " [[5 6]\n",
      "  [7 8]]]\n",
      "(2, 2, 2)\n",
      "8\n",
      "3\n"
     ]
    }
   ],
   "source": [
    "c = np.array([[[1,2],\n",
    "               [3,4]],\n",
    "              [[5,6],\n",
    "               [7,8]]])\n",
    "print(c)\n",
    "print(c.shape)\n",
    "print(c.size)\n",
    "print(c.ndim)"
   ]
  },
  {
   "cell_type": "code",
   "execution_count": 26,
   "id": "08b9d65a",
   "metadata": {},
   "outputs": [
    {
     "data": {
      "text/plain": [
       "4"
      ]
     },
     "execution_count": 26,
     "metadata": {},
     "output_type": "execute_result"
    }
   ],
   "source": [
    "# get specific elements\n",
    "c[0,1,1]"
   ]
  },
  {
   "cell_type": "markdown",
   "id": "28106eff",
   "metadata": {},
   "source": [
    "## different types of arrays"
   ]
  },
  {
   "cell_type": "code",
   "execution_count": 28,
   "id": "485c507b",
   "metadata": {},
   "outputs": [
    {
     "name": "stdout",
     "output_type": "stream",
     "text": [
      "[[[0. 0.]\n",
      "  [0. 0.]]\n",
      "\n",
      " [[0. 0.]\n",
      "  [0. 0.]]]\n",
      "3\n"
     ]
    }
   ],
   "source": [
    "# all zero matrix\n",
    "one_dim = np.zeros((2,2,2))\n",
    "print(one_dim)\n",
    "print(one_dim.ndim)"
   ]
  },
  {
   "cell_type": "code",
   "execution_count": 31,
   "id": "fd812878",
   "metadata": {},
   "outputs": [
    {
     "data": {
      "text/plain": [
       "array([0., 0., 0., 0., 0.])"
      ]
     },
     "execution_count": 31,
     "metadata": {},
     "output_type": "execute_result"
    }
   ],
   "source": [
    "np.zeros((5))"
   ]
  },
  {
   "cell_type": "code",
   "execution_count": 32,
   "id": "f07ad81b",
   "metadata": {},
   "outputs": [
    {
     "name": "stdout",
     "output_type": "stream",
     "text": [
      "[[0. 0. 0.]\n",
      " [0. 0. 0.]]\n",
      "2\n"
     ]
    }
   ],
   "source": [
    "two_dim = np.zeros((2,3))\n",
    "print(two_dim)\n",
    "print(two_dim.ndim)"
   ]
  },
  {
   "cell_type": "code",
   "execution_count": 33,
   "id": "2f68f4cb",
   "metadata": {},
   "outputs": [
    {
     "data": {
      "text/plain": [
       "array([[[0., 0., 0.],\n",
       "        [0., 0., 0.]],\n",
       "\n",
       "       [[0., 0., 0.],\n",
       "        [0., 0., 0.]],\n",
       "\n",
       "       [[0., 0., 0.],\n",
       "        [0., 0., 0.]],\n",
       "\n",
       "       [[0., 0., 0.],\n",
       "        [0., 0., 0.]]])"
      ]
     },
     "execution_count": 33,
     "metadata": {},
     "output_type": "execute_result"
    }
   ],
   "source": [
    "np.zeros((4,2,3))"
   ]
  },
  {
   "cell_type": "code",
   "execution_count": 37,
   "id": "38dd2939",
   "metadata": {},
   "outputs": [
    {
     "data": {
      "text/plain": [
       "array([[[[0., 0., 0., 0.],\n",
       "         [0., 0., 0., 0.],\n",
       "         [0., 0., 0., 0.]],\n",
       "\n",
       "        [[0., 0., 0., 0.],\n",
       "         [0., 0., 0., 0.],\n",
       "         [0., 0., 0., 0.]],\n",
       "\n",
       "        [[0., 0., 0., 0.],\n",
       "         [0., 0., 0., 0.],\n",
       "         [0., 0., 0., 0.]]],\n",
       "\n",
       "\n",
       "       [[[0., 0., 0., 0.],\n",
       "         [0., 0., 0., 0.],\n",
       "         [0., 0., 0., 0.]],\n",
       "\n",
       "        [[0., 0., 0., 0.],\n",
       "         [0., 0., 0., 0.],\n",
       "         [0., 0., 0., 0.]],\n",
       "\n",
       "        [[0., 0., 0., 0.],\n",
       "         [0., 0., 0., 0.],\n",
       "         [0., 0., 0., 0.]]]])"
      ]
     },
     "execution_count": 37,
     "metadata": {},
     "output_type": "execute_result"
    }
   ],
   "source": [
    "np.zeros((2,3,3,4))"
   ]
  },
  {
   "cell_type": "code",
   "execution_count": 38,
   "id": "cff4bc66",
   "metadata": {},
   "outputs": [
    {
     "name": "stdout",
     "output_type": "stream",
     "text": [
      "[[[1. 1. 1.]\n",
      "  [1. 1. 1.]]\n",
      "\n",
      " [[1. 1. 1.]\n",
      "  [1. 1. 1.]]]\n",
      "3\n"
     ]
    }
   ],
   "source": [
    "three_dim = np.ones((2,2,3))\n",
    "print(three_dim)\n",
    "print(three_dim.ndim)"
   ]
  },
  {
   "cell_type": "code",
   "execution_count": 41,
   "id": "4aede03e",
   "metadata": {},
   "outputs": [
    {
     "data": {
      "text/plain": [
       "array([[4, 4, 4],\n",
       "       [4, 4, 4]])"
      ]
     },
     "execution_count": 41,
     "metadata": {},
     "output_type": "execute_result"
    }
   ],
   "source": [
    "np.full((2,3),4)"
   ]
  },
  {
   "cell_type": "code",
   "execution_count": 42,
   "id": "f746f8a5",
   "metadata": {},
   "outputs": [
    {
     "data": {
      "text/plain": [
       "(3,)"
      ]
     },
     "execution_count": 42,
     "metadata": {},
     "output_type": "execute_result"
    }
   ],
   "source": [
    "a.shape"
   ]
  },
  {
   "cell_type": "code",
   "execution_count": 43,
   "id": "446b7195",
   "metadata": {},
   "outputs": [
    {
     "name": "stdout",
     "output_type": "stream",
     "text": [
      "[1 2 4]\n",
      "(3,)\n",
      "[4]\n"
     ]
    }
   ],
   "source": [
    "full = np.full_like(a.shape,4)\n",
    "print(a)\n",
    "print(a.shape)\n",
    "print(full)"
   ]
  },
  {
   "cell_type": "code",
   "execution_count": 45,
   "id": "f59b34cb",
   "metadata": {},
   "outputs": [
    {
     "data": {
      "text/plain": [
       "array([1, 2, 4])"
      ]
     },
     "execution_count": 45,
     "metadata": {},
     "output_type": "execute_result"
    }
   ],
   "source": [
    "a"
   ]
  },
  {
   "cell_type": "code",
   "execution_count": 44,
   "id": "71ce18c2",
   "metadata": {},
   "outputs": [
    {
     "data": {
      "text/plain": [
       "array([4, 4, 4])"
      ]
     },
     "execution_count": 44,
     "metadata": {},
     "output_type": "execute_result"
    }
   ],
   "source": [
    "np.full_like(a, 4)"
   ]
  },
  {
   "cell_type": "code",
   "execution_count": 47,
   "id": "d120579c",
   "metadata": {},
   "outputs": [
    {
     "data": {
      "text/plain": [
       "array([[0.75069073, 0.13946602, 0.78489169, 0.14241901],\n",
       "       [0.43429611, 0.83088675, 0.96788145, 0.18052542],\n",
       "       [0.48137149, 0.40220453, 0.7096623 , 0.71747796],\n",
       "       [0.34392043, 0.47381272, 0.32616516, 0.81961239]])"
      ]
     },
     "execution_count": 47,
     "metadata": {},
     "output_type": "execute_result"
    }
   ],
   "source": [
    "#random decimal numbers\n",
    "random = np.random.rand(4,4)\n",
    "random"
   ]
  },
  {
   "cell_type": "code",
   "execution_count": 55,
   "id": "6f0836ee",
   "metadata": {},
   "outputs": [
    {
     "name": "stdout",
     "output_type": "stream",
     "text": [
      "[0.75069073 0.13946602 0.78489169 0.14241901 0.43429611 0.83088675\n",
      " 0.96788145 0.18052542 0.48137149 0.40220453 0.7096623  0.71747796\n",
      " 0.34392043 0.47381272 0.32616516 0.81961239]\n",
      "\n",
      "(16,)\n",
      "1\n"
     ]
    }
   ],
   "source": [
    "rand_1 = random.reshape(-1,)\n",
    "print(rand_1)\n",
    "print()\n",
    "print(rand_1.shape)\n",
    "print(rand_1.ndim)"
   ]
  },
  {
   "cell_type": "code",
   "execution_count": 58,
   "id": "ad7121b6",
   "metadata": {},
   "outputs": [
    {
     "name": "stdout",
     "output_type": "stream",
     "text": [
      "[[0.75069073]\n",
      " [0.13946602]\n",
      " [0.78489169]\n",
      " [0.14241901]\n",
      " [0.43429611]\n",
      " [0.83088675]\n",
      " [0.96788145]\n",
      " [0.18052542]\n",
      " [0.48137149]\n",
      " [0.40220453]\n",
      " [0.7096623 ]\n",
      " [0.71747796]\n",
      " [0.34392043]\n",
      " [0.47381272]\n",
      " [0.32616516]\n",
      " [0.81961239]]\n",
      "\n",
      "(16, 1)\n",
      "2\n"
     ]
    }
   ],
   "source": [
    "rand_2 = random.reshape(-1,1)\n",
    "print(rand_2)\n",
    "print()\n",
    "print(rand_2.shape)\n",
    "print(rand_2.ndim)"
   ]
  },
  {
   "cell_type": "code",
   "execution_count": 59,
   "id": "12ba363d",
   "metadata": {},
   "outputs": [
    {
     "data": {
      "text/plain": [
       "array([0.13226443, 0.45296383, 0.8173595 ])"
      ]
     },
     "execution_count": 59,
     "metadata": {},
     "output_type": "execute_result"
    }
   ],
   "source": [
    "np.random.random_sample(a.shape)"
   ]
  },
  {
   "cell_type": "code",
   "execution_count": 107,
   "id": "7d294554",
   "metadata": {},
   "outputs": [
    {
     "data": {
      "text/plain": [
       "array([[2, 5, 4],\n",
       "       [0, 4, 4],\n",
       "       [6, 6, 6]])"
      ]
     },
     "execution_count": 107,
     "metadata": {},
     "output_type": "execute_result"
    }
   ],
   "source": [
    "# random integer values\n",
    "np.random.randint(7, size=(3,3))"
   ]
  },
  {
   "cell_type": "code",
   "execution_count": 63,
   "id": "e99f6b34",
   "metadata": {},
   "outputs": [
    {
     "data": {
      "text/plain": [
       "array([3, 4])"
      ]
     },
     "execution_count": 63,
     "metadata": {},
     "output_type": "execute_result"
    }
   ],
   "source": [
    "np.random.randint((2,3), 7)"
   ]
  },
  {
   "cell_type": "code",
   "execution_count": 77,
   "id": "a7554060",
   "metadata": {},
   "outputs": [
    {
     "data": {
      "text/plain": [
       "array([[0, 2, 2],\n",
       "       [2, 2, 3],\n",
       "       [0, 0, 2]])"
      ]
     },
     "execution_count": 77,
     "metadata": {},
     "output_type": "execute_result"
    }
   ],
   "source": [
    "np.random.randint(5, size = (3,3))"
   ]
  },
  {
   "cell_type": "code",
   "execution_count": 78,
   "id": "3dda9c09",
   "metadata": {},
   "outputs": [
    {
     "data": {
      "text/plain": [
       "array([0.26035572, 0.68895158, 0.03034696, 0.18294922, 0.70037516])"
      ]
     },
     "execution_count": 78,
     "metadata": {},
     "output_type": "execute_result"
    }
   ],
   "source": [
    "np.random.rand((5))"
   ]
  },
  {
   "cell_type": "code",
   "execution_count": 79,
   "id": "fe2e3874",
   "metadata": {},
   "outputs": [
    {
     "data": {
      "text/plain": [
       "array([[0.17542471, 0.54982852, 0.74488866],\n",
       "       [0.86551128, 0.14621252, 0.36675705],\n",
       "       [0.07613342, 0.45666167, 0.73144918]])"
      ]
     },
     "execution_count": 79,
     "metadata": {},
     "output_type": "execute_result"
    }
   ],
   "source": [
    "np.random.rand(3,3)"
   ]
  },
  {
   "cell_type": "code",
   "execution_count": 80,
   "id": "474ae29e",
   "metadata": {},
   "outputs": [
    {
     "data": {
      "text/plain": [
       "array([[3, 5, 6],\n",
       "       [5, 6, 4],\n",
       "       [3, 6, 5]])"
      ]
     },
     "execution_count": 80,
     "metadata": {},
     "output_type": "execute_result"
    }
   ],
   "source": [
    "np.random.randint(3,7, size=(3,3))"
   ]
  },
  {
   "cell_type": "code",
   "execution_count": 81,
   "id": "1c060c9e",
   "metadata": {},
   "outputs": [
    {
     "data": {
      "text/plain": [
       "array([[1., 0., 0., 0., 0.],\n",
       "       [0., 1., 0., 0., 0.],\n",
       "       [0., 0., 1., 0., 0.],\n",
       "       [0., 0., 0., 1., 0.],\n",
       "       [0., 0., 0., 0., 1.]])"
      ]
     },
     "execution_count": 81,
     "metadata": {},
     "output_type": "execute_result"
    }
   ],
   "source": [
    "# identity matrix\n",
    "np.identity(5)"
   ]
  },
  {
   "cell_type": "code",
   "execution_count": 82,
   "id": "c3bc94b9",
   "metadata": {},
   "outputs": [
    {
     "name": "stdout",
     "output_type": "stream",
     "text": [
      "[[1 1 1 2 2 2 3 3 3]]\n"
     ]
    }
   ],
   "source": [
    "# repeat array\n",
    "arr = np.array([[1,2,3]])\n",
    "ri = np.repeat(arr, 3, axis=1)\n",
    "print(ri)"
   ]
  },
  {
   "cell_type": "code",
   "execution_count": 83,
   "id": "1a57c55b",
   "metadata": {},
   "outputs": [
    {
     "name": "stdout",
     "output_type": "stream",
     "text": [
      "[[1. 1. 1. 1. 1.]\n",
      " [1. 1. 1. 1. 1.]\n",
      " [1. 1. 1. 1. 1.]\n",
      " [1. 1. 1. 1. 1.]\n",
      " [1. 1. 1. 1. 1.]]\n",
      "[[0. 0. 0.]\n",
      " [0. 9. 0.]\n",
      " [0. 0. 0.]]\n",
      "[[1. 1. 1. 1. 1.]\n",
      " [1. 0. 0. 0. 1.]\n",
      " [1. 0. 9. 0. 1.]\n",
      " [1. 0. 0. 0. 1.]\n",
      " [1. 1. 1. 1. 1.]]\n"
     ]
    }
   ],
   "source": [
    "output = np.ones((5,5))\n",
    "print(output)\n",
    "\n",
    "z = np.zeros((3,3))\n",
    "z[1,1] = 9\n",
    "print(z)\n",
    "\n",
    "output[1:4, 1:4] = z\n",
    "print(output)"
   ]
  },
  {
   "cell_type": "code",
   "execution_count": 84,
   "id": "cb645823",
   "metadata": {},
   "outputs": [
    {
     "name": "stdout",
     "output_type": "stream",
     "text": [
      "[8 9 7]\n",
      "[8 4 7]\n"
     ]
    }
   ],
   "source": [
    "# copy\n",
    "a = np.array([8,9,7])\n",
    "b = a.copy()\n",
    "b[1] = 4\n",
    "print(a)\n",
    "print(b)"
   ]
  },
  {
   "cell_type": "markdown",
   "id": "2430f414",
   "metadata": {},
   "source": [
    "## maths"
   ]
  },
  {
   "cell_type": "code",
   "execution_count": 85,
   "id": "a304d2f3",
   "metadata": {},
   "outputs": [
    {
     "name": "stdout",
     "output_type": "stream",
     "text": [
      "[1 2 3]\n"
     ]
    }
   ],
   "source": [
    "a = np.array([1,2,3])\n",
    "print (a)"
   ]
  },
  {
   "cell_type": "code",
   "execution_count": 86,
   "id": "951cb956",
   "metadata": {},
   "outputs": [
    {
     "data": {
      "text/plain": [
       "array([-1,  0,  1])"
      ]
     },
     "execution_count": 86,
     "metadata": {},
     "output_type": "execute_result"
    }
   ],
   "source": [
    "a - 2"
   ]
  },
  {
   "cell_type": "code",
   "execution_count": 87,
   "id": "a793597e",
   "metadata": {},
   "outputs": [
    {
     "data": {
      "text/plain": [
       "array([5, 7, 9])"
      ]
     },
     "execution_count": 87,
     "metadata": {},
     "output_type": "execute_result"
    }
   ],
   "source": [
    "b = np.array([4,5,6])\n",
    "a + b"
   ]
  },
  {
   "cell_type": "code",
   "execution_count": 88,
   "id": "eb672d67",
   "metadata": {},
   "outputs": [
    {
     "data": {
      "text/plain": [
       "array([0.84147098, 0.90929743, 0.14112001])"
      ]
     },
     "execution_count": 88,
     "metadata": {},
     "output_type": "execute_result"
    }
   ],
   "source": [
    "np.sin(a)"
   ]
  },
  {
   "cell_type": "markdown",
   "id": "a82cc0ac",
   "metadata": {},
   "source": [
    "#### Linear Algebra"
   ]
  },
  {
   "cell_type": "code",
   "execution_count": 89,
   "id": "a4bdaf42",
   "metadata": {},
   "outputs": [
    {
     "name": "stdout",
     "output_type": "stream",
     "text": [
      "[[1. 1. 1.]\n",
      " [1. 1. 1.]]\n",
      "[[2 2]\n",
      " [2 2]\n",
      " [2 2]]\n"
     ]
    },
    {
     "data": {
      "text/plain": [
       "array([[6., 6.],\n",
       "       [6., 6.]])"
      ]
     },
     "execution_count": 89,
     "metadata": {},
     "output_type": "execute_result"
    }
   ],
   "source": [
    "a = np.ones((2,3))\n",
    "print(a)\n",
    "\n",
    "b = np.full((3,2),2)\n",
    "print(b)\n",
    "\n",
    "np.matmul(a,b)"
   ]
  },
  {
   "cell_type": "code",
   "execution_count": 94,
   "id": "66ed31a9",
   "metadata": {},
   "outputs": [
    {
     "name": "stdout",
     "output_type": "stream",
     "text": [
      "[[1. 0.]\n",
      " [0. 1.]]\n",
      "1.0\n",
      "2.0\n"
     ]
    }
   ],
   "source": [
    "# find determinant\n",
    "c = np.identity(2)\n",
    "print(c)\n",
    "print(np.linalg.det(c))\n",
    "print(np.trace(c))"
   ]
  },
  {
   "cell_type": "code",
   "execution_count": 95,
   "id": "b7867e89",
   "metadata": {},
   "outputs": [],
   "source": [
    "# determinant\n",
    "# trace\n",
    "# singular vector decomposition\n",
    "# eignen values\n",
    "# matrix form\n",
    "# inverse"
   ]
  },
  {
   "cell_type": "markdown",
   "id": "551b08c3",
   "metadata": {},
   "source": [
    "##### Statistics"
   ]
  },
  {
   "cell_type": "code",
   "execution_count": 96,
   "id": "f0360d7c",
   "metadata": {},
   "outputs": [
    {
     "name": "stdout",
     "output_type": "stream",
     "text": [
      "[[1 2 3]\n",
      " [4 5 6]]\n",
      "24\n",
      "4\n",
      "6\n",
      "(2, 3)\n",
      "2\n"
     ]
    }
   ],
   "source": [
    "stats = np.array([[1,2,3],[4,5,6]])\n",
    "print(stats)\n",
    "print(stats.nbytes)\n",
    "print(stats.itemsize)\n",
    "print(stats.size)\n",
    "print(stats.shape)\n",
    "print(stats.ndim)"
   ]
  },
  {
   "cell_type": "code",
   "execution_count": 97,
   "id": "c28522d8",
   "metadata": {},
   "outputs": [
    {
     "name": "stdout",
     "output_type": "stream",
     "text": [
      "[[1 2 3]\n",
      " [4 5 6]]\n",
      "[1 4]\n",
      "[4 5 6]\n"
     ]
    }
   ],
   "source": [
    "print(stats)\n",
    "axis_one = np.min(stats, axis=1)\n",
    "print(axis_one)\n",
    "axis_two = np.max(stats, axis=0)\n",
    "print(axis_two)"
   ]
  },
  {
   "cell_type": "code",
   "execution_count": 98,
   "id": "b2ead661",
   "metadata": {},
   "outputs": [
    {
     "data": {
      "text/plain": [
       "6"
      ]
     },
     "execution_count": 98,
     "metadata": {},
     "output_type": "execute_result"
    }
   ],
   "source": [
    "np.max(stats)"
   ]
  },
  {
   "cell_type": "code",
   "execution_count": 99,
   "id": "e5e1c0e7",
   "metadata": {},
   "outputs": [
    {
     "name": "stdout",
     "output_type": "stream",
     "text": [
      "[[1 2 3]\n",
      " [4 5 6]]\n",
      "\n",
      "[5 7 9]\n",
      "\n",
      "[ 6 15]\n"
     ]
    }
   ],
   "source": [
    "print(stats)\n",
    "print()\n",
    "axis_zero = np.sum(stats, axis=0)\n",
    "print(axis_zero)\n",
    "print()\n",
    "axis_one = np.sum(stats, axis=1)\n",
    "print(axis_one)"
   ]
  },
  {
   "cell_type": "markdown",
   "id": "5272b67c",
   "metadata": {},
   "source": [
    "### reorganizing array"
   ]
  },
  {
   "cell_type": "code",
   "execution_count": 101,
   "id": "f08c45a8",
   "metadata": {},
   "outputs": [
    {
     "name": "stdout",
     "output_type": "stream",
     "text": [
      "[[1 2 3 4]\n",
      " [5 6 7 8]]\n",
      "[[1]\n",
      " [2]\n",
      " [3]\n",
      " [4]\n",
      " [5]\n",
      " [6]\n",
      " [7]\n",
      " [8]]\n"
     ]
    }
   ],
   "source": [
    "before = np.array([[1,2,3,4],[5,6,7,8]])\n",
    "print(before)\n",
    "\n",
    "after = before.reshape((8,1))\n",
    "print(after)"
   ]
  },
  {
   "cell_type": "code",
   "execution_count": 102,
   "id": "e4bbc225",
   "metadata": {},
   "outputs": [
    {
     "data": {
      "text/plain": [
       "array([1, 2, 3, 4, 5, 6, 7, 8])"
      ]
     },
     "execution_count": 102,
     "metadata": {},
     "output_type": "execute_result"
    }
   ],
   "source": [
    "before.reshape(-1,)"
   ]
  },
  {
   "cell_type": "code",
   "execution_count": 104,
   "id": "ee21dc76",
   "metadata": {},
   "outputs": [],
   "source": [
    "# before.reshape(1,)"
   ]
  },
  {
   "cell_type": "code",
   "execution_count": 106,
   "id": "2b956dff",
   "metadata": {},
   "outputs": [
    {
     "data": {
      "text/plain": [
       "array([[1],\n",
       "       [2],\n",
       "       [3],\n",
       "       [4],\n",
       "       [5],\n",
       "       [6],\n",
       "       [7],\n",
       "       [8]])"
      ]
     },
     "execution_count": 106,
     "metadata": {},
     "output_type": "execute_result"
    }
   ],
   "source": [
    "before.reshape(-1, 1)"
   ]
  },
  {
   "cell_type": "code",
   "execution_count": 107,
   "id": "26536abc",
   "metadata": {},
   "outputs": [
    {
     "data": {
      "text/plain": [
       "(2, 4)"
      ]
     },
     "execution_count": 107,
     "metadata": {},
     "output_type": "execute_result"
    }
   ],
   "source": [
    "before.shape"
   ]
  },
  {
   "cell_type": "code",
   "execution_count": 108,
   "id": "69a2b46b",
   "metadata": {},
   "outputs": [
    {
     "name": "stdout",
     "output_type": "stream",
     "text": [
      "[[1 2 3 4]\n",
      " [5 6 7 8]]\n",
      "\n",
      "[[1 2 3 4]\n",
      " [5 6 7 8]\n",
      " [5 6 7 8]]\n",
      "\n",
      "[[1 2 3 4]\n",
      " [5 6 7 8]\n",
      " [1 2 3 4]]\n"
     ]
    }
   ],
   "source": [
    "# vertically stacking vectors\n",
    "v1 = np.array([1,2,3,4])\n",
    "v2 = np.array([5,6,7,8])\n",
    "\n",
    "print(np.vstack([v1,v2]))\n",
    "print()\n",
    "print(np.vstack([v1,v2,v2]))\n",
    "print()\n",
    "print(np.vstack([v1,v2,v1]))"
   ]
  },
  {
   "cell_type": "code",
   "execution_count": 109,
   "id": "61b47e37",
   "metadata": {},
   "outputs": [
    {
     "name": "stdout",
     "output_type": "stream",
     "text": [
      "[[1 1 1 1]\n",
      " [1 1 1 1]]\n",
      "\n",
      "[[0 0]\n",
      " [0 0]]\n",
      "\n",
      "[[1 1 1 1 0 0]\n",
      " [1 1 1 1 0 0]]\n",
      "\n",
      "[[1 1 1 1 0 0 1 1 1 1]\n",
      " [1 1 1 1 0 0 1 1 1 1]]\n"
     ]
    }
   ],
   "source": [
    "# horizontally stacking vectors\n",
    "h1 = np.ones((2,4), dtype='int32')\n",
    "h2 = np.zeros((2,2), dtype='int32')\n",
    "print(h1)\n",
    "print()\n",
    "print(h2)\n",
    "print()\n",
    "print(np.hstack([h1,h2]))\n",
    "print()\n",
    "print(np.hstack([h1,h2,h1]))"
   ]
  },
  {
   "cell_type": "code",
   "execution_count": 123,
   "id": "be3b4f9a",
   "metadata": {},
   "outputs": [
    {
     "data": {
      "text/plain": [
       "array([1, 2, 3], dtype=int64)"
      ]
     },
     "execution_count": 123,
     "metadata": {},
     "output_type": "execute_result"
    }
   ],
   "source": [
    "ram = np.array([1, 2, 3], dtype='int64')\n",
    "ram"
   ]
  },
  {
   "cell_type": "code",
   "execution_count": 124,
   "id": "6e1cd503",
   "metadata": {},
   "outputs": [
    {
     "data": {
      "text/plain": [
       "8"
      ]
     },
     "execution_count": 124,
     "metadata": {},
     "output_type": "execute_result"
    }
   ],
   "source": [
    "ram.itemsize"
   ]
  },
  {
   "cell_type": "code",
   "execution_count": 125,
   "id": "3a88b011",
   "metadata": {},
   "outputs": [
    {
     "data": {
      "text/plain": [
       "3"
      ]
     },
     "execution_count": 125,
     "metadata": {},
     "output_type": "execute_result"
    }
   ],
   "source": [
    "ram.size"
   ]
  },
  {
   "cell_type": "markdown",
   "id": "9f10b85e",
   "metadata": {},
   "source": [
    "### get data from file"
   ]
  },
  {
   "cell_type": "code",
   "execution_count": 127,
   "id": "5c5a3621",
   "metadata": {},
   "outputs": [],
   "source": [
    "# # delimiter presents the separator \n",
    "# filedata = np.genfromtxt('data.text', delimiter=',') # from notepad/file\n",
    "\n",
    "# # convert into integer as the text is in floats\n",
    "# filedata.astype('int32')\n"
   ]
  },
  {
   "cell_type": "code",
   "execution_count": 128,
   "id": "42ee9ae0",
   "metadata": {},
   "outputs": [],
   "source": [
    "# # boolean masking and advanced indexing\n",
    "# filedata > 50  # will  give boolean values whether true or false\n",
    "\n",
    "# # index where the file is greater than 50\n",
    "# filedata[filedata>50]"
   ]
  },
  {
   "cell_type": "code",
   "execution_count": 132,
   "id": "f9f8e218",
   "metadata": {},
   "outputs": [
    {
     "data": {
      "text/plain": [
       "array([1, 5, 6])"
      ]
     },
     "execution_count": 132,
     "metadata": {},
     "output_type": "execute_result"
    }
   ],
   "source": [
    "# indexing with a list in numpy\n",
    "a = np.array([1,2,3,4,5,6,7,8,9])\n",
    "a[[0,4,5]]"
   ]
  },
  {
   "cell_type": "code",
   "execution_count": 135,
   "id": "3dc73de1",
   "metadata": {},
   "outputs": [
    {
     "data": {
      "text/plain": [
       "True"
      ]
     },
     "execution_count": 135,
     "metadata": {},
     "output_type": "execute_result"
    }
   ],
   "source": [
    "# if any of the values in a were greater than 6\n",
    "np.any(a>6)"
   ]
  },
  {
   "cell_type": "code",
   "execution_count": 138,
   "id": "b6bd0008",
   "metadata": {},
   "outputs": [
    {
     "data": {
      "text/plain": [
       "False"
      ]
     },
     "execution_count": 138,
     "metadata": {},
     "output_type": "execute_result"
    }
   ],
   "source": [
    "np.all(a>3)"
   ]
  },
  {
   "cell_type": "code",
   "execution_count": 139,
   "id": "27752a93",
   "metadata": {},
   "outputs": [
    {
     "data": {
      "text/plain": [
       "array([False, False, False,  True,  True,  True,  True, False, False])"
      ]
     },
     "execution_count": 139,
     "metadata": {},
     "output_type": "execute_result"
    }
   ],
   "source": [
    "((a>3) & (a<8))"
   ]
  },
  {
   "cell_type": "markdown",
   "id": "47afe8bb",
   "metadata": {},
   "source": [
    "## numpy strings"
   ]
  },
  {
   "cell_type": "code",
   "execution_count": 140,
   "id": "0a0eeba2",
   "metadata": {},
   "outputs": [
    {
     "name": "stdout",
     "output_type": "stream",
     "text": [
      "[['python PHP' 'Java C++']]\n"
     ]
    }
   ],
   "source": [
    "# concatenate elementwise to arrays of strings\n",
    "a = np.array([['python ', 'Java ']])\n",
    "b = np.array([['PHP', 'C++']])\n",
    "c = np.char.add(a, b)\n",
    "print(c)"
   ]
  },
  {
   "cell_type": "code",
   "execution_count": 141,
   "id": "7cd381a0",
   "metadata": {},
   "outputs": [
    {
     "data": {
      "text/plain": [
       "array(['Python', 'Python', 'Python', 'PHP', 'PHP', 'PHP', 'Java', 'Java',\n",
       "       'Java', 'C++', 'C++', 'C++'], dtype='<U6')"
      ]
     },
     "execution_count": 141,
     "metadata": {},
     "output_type": "execute_result"
    }
   ],
   "source": [
    "# repeat items in an array\n",
    "a = np.array([['Python', 'PHP', 'Java', 'C++']])\n",
    "b = np.repeat(a,3)\n",
    "b"
   ]
  },
  {
   "cell_type": "code",
   "execution_count": 142,
   "id": "3437f7dd",
   "metadata": {},
   "outputs": [
    {
     "data": {
      "text/plain": [
       "array([['PythonPythonPython', 'PHPPHPPHP', 'JavaJavaJava', 'C++C++C++']],\n",
       "      dtype='<U18')"
      ]
     },
     "execution_count": 142,
     "metadata": {},
     "output_type": "execute_result"
    }
   ],
   "source": [
    "# repeat items\n",
    "a = np.array([['Python', 'PHP', 'Java', 'C++']])\n",
    "b = np.char.multiply(a,3)\n",
    "b"
   ]
  },
  {
   "cell_type": "code",
   "execution_count": 143,
   "id": "01cdf2ec",
   "metadata": {},
   "outputs": [
    {
     "name": "stdout",
     "output_type": "stream",
     "text": [
      "[['PYTHON' 'PHP' 'JAVA' 'C++']]\n",
      "[['python' 'php' 'java' 'c++']]\n",
      "[['Python' 'Php' 'Java' 'C++']]\n",
      "[['Python' 'Php' 'Java' 'C++']]\n",
      "[['PYTHON' 'pHP' 'jAVA' 'c++']]\n"
     ]
    }
   ],
   "source": [
    "# lower and upper cases\n",
    "a = np.array([['python', 'Php', 'Java', 'C++']])\n",
    "upper = np.char.upper(a)\n",
    "lower = np.char.lower(a)\n",
    "title = np.char.title(a)\n",
    "capitalize = np.char.capitalize(a)\n",
    "swapcase = np.char.swapcase(a)\n",
    "print(upper)\n",
    "print(lower)\n",
    "print(title)\n",
    "print(capitalize)\n",
    "print(swapcase)"
   ]
  },
  {
   "cell_type": "code",
   "execution_count": 144,
   "id": "515b1924",
   "metadata": {},
   "outputs": [
    {
     "data": {
      "text/plain": [
       "dtype('<U6')"
      ]
     },
     "execution_count": 144,
     "metadata": {},
     "output_type": "execute_result"
    }
   ],
   "source": [
    "# print data type\n",
    "a.dtype"
   ]
  },
  {
   "cell_type": "code",
   "execution_count": 145,
   "id": "6d45b1c7",
   "metadata": {},
   "outputs": [
    {
     "name": "stdout",
     "output_type": "stream",
     "text": [
      "[['_____python____' '______Php______' '______Java_____' '______C++______']]\n",
      "[['python_________' 'Php____________' 'Java___________' 'C++____________']]\n",
      "[['_________python' '____________Php' '___________Java' '____________C++']]\n"
     ]
    }
   ],
   "source": [
    "# program to make the length of elements 15 elements \n",
    "a = np.array([['python', 'Php', 'Java', 'C++']])\n",
    "centered = np.char.center(a, 15, fillchar='_')\n",
    "leftJustified = np.char.ljust(a, 15, fillchar='_')\n",
    "rightJustified = np.char.rjust(a, 15, fillchar='_')\n",
    "print(centered)\n",
    "print(leftJustified)\n",
    "print(rightJustified)"
   ]
  },
  {
   "cell_type": "code",
   "execution_count": 132,
   "id": "cddac0ca",
   "metadata": {},
   "outputs": [
    {
     "data": {
      "text/plain": [
       "array([['p*y*t*h*o*n', 'P*h*p', 'J*a*v*a', 'C*+*+']], dtype='<U11')"
      ]
     },
     "execution_count": 132,
     "metadata": {},
     "output_type": "execute_result"
    }
   ],
   "source": [
    "# program to insert a space between characters \n",
    "a = np.array([['python', 'Php', 'Java', 'C++']])\n",
    "b = np.char.join('*', a)# * is called sep or seperator\n",
    "b"
   ]
  },
  {
   "cell_type": "code",
   "execution_count": 150,
   "id": "ba486266",
   "metadata": {},
   "outputs": [
    {
     "data": {
      "text/plain": [
       "'19 08 2022'"
      ]
     },
     "execution_count": 150,
     "metadata": {},
     "output_type": "execute_result"
    }
   ],
   "source": [
    "date = '19 08 2022'\n",
    "date"
   ]
  },
  {
   "cell_type": "code",
   "execution_count": 152,
   "id": "5738b26a",
   "metadata": {},
   "outputs": [
    {
     "data": {
      "text/plain": [
       "'19-08-2022'"
      ]
     },
     "execution_count": 152,
     "metadata": {},
     "output_type": "execute_result"
    }
   ],
   "source": [
    "date.replace(' ', '-')"
   ]
  },
  {
   "cell_type": "code",
   "execution_count": 154,
   "id": "be8c5f74",
   "metadata": {},
   "outputs": [
    {
     "data": {
      "text/plain": [
       "array('1/9/ /0/8/ /2/0/2/2', dtype='<U19')"
      ]
     },
     "execution_count": 154,
     "metadata": {},
     "output_type": "execute_result"
    }
   ],
   "source": [
    "np.char.join('/', date)"
   ]
  },
  {
   "cell_type": "code",
   "execution_count": 156,
   "id": "8479d00d",
   "metadata": {},
   "outputs": [
    {
     "data": {
      "text/plain": [
       "array(list(['19', '08', '2022']), dtype=object)"
      ]
     },
     "execution_count": 156,
     "metadata": {},
     "output_type": "execute_result"
    }
   ],
   "source": [
    "np.char.split(date)"
   ]
  },
  {
   "cell_type": "code",
   "execution_count": 157,
   "id": "2c2f42bc",
   "metadata": {},
   "outputs": [
    {
     "name": "stdout",
     "output_type": "stream",
     "text": [
      "[list(['python']) list(['PHP']) list(['Java']) list(['C++'])]\n"
     ]
    }
   ],
   "source": [
    "# remove leading and trailing whitespaces of all elements in a given array\n",
    "a = np.array([' python ', ' PHP ', ' Java ', ' C++ '])\n",
    "b = np.char.split(a)\n",
    "print(b)"
   ]
  },
  {
   "cell_type": "code",
   "execution_count": 158,
   "id": "8bd0d77d",
   "metadata": {},
   "outputs": [
    {
     "name": "stdout",
     "output_type": "stream",
     "text": [
      "[list(['python', 'Php', 'Java', 'C++'])]\n"
     ]
    }
   ],
   "source": [
    "# split array elements\n",
    "a = np.array(['python Php Java C++'])\n",
    "print(np.char.split(a))"
   ]
  },
  {
   "cell_type": "code",
   "execution_count": 159,
   "id": "3f278c70",
   "metadata": {},
   "outputs": [
    {
     "name": "stdout",
     "output_type": "stream",
     "text": [
      "[list(['Python/exercises,', 'Practice,', 'solution'])]\n",
      "[list(['Python/exercises, Practice, solution'])]\n"
     ]
    }
   ],
   "source": [
    "# split elements to multiple lines\n",
    "a = np.array(['Python/exercises, Practice, solution'])\n",
    "print(np.char.split(a))\n",
    "print(np.char.splitlines(a))"
   ]
  },
  {
   "cell_type": "code",
   "execution_count": 160,
   "id": "b87f253b",
   "metadata": {},
   "outputs": [
    {
     "name": "stdout",
     "output_type": "stream",
     "text": [
      "['00002' '00034' '00123' '03456']\n"
     ]
    }
   ],
   "source": [
    "# program of string with 5 digits with zeros on the left\n",
    "x = np.array(['2', '34','123', '3456'])\n",
    "print(np.char.zfill(x,5))"
   ]
  },
  {
   "cell_type": "code",
   "execution_count": 161,
   "id": "7d22ef09",
   "metadata": {},
   "outputs": [
    {
     "name": "stdout",
     "output_type": "stream",
     "text": [
      "['PHP exercises, Practice, solution']\n"
     ]
    }
   ],
   "source": [
    "# replace\n",
    "a = np.array(['Python exercises, Practice, solution'])\n",
    "replace = np.char.replace(a,'Python', 'PHP')\n",
    "print(replace)"
   ]
  },
  {
   "cell_type": "code",
   "execution_count": 162,
   "id": "d93ce9a6",
   "metadata": {},
   "outputs": [
    {
     "name": "stdout",
     "output_type": "stream",
     "text": [
      "[1 2 0 1]\n",
      "[ 0  0 -1  4]\n"
     ]
    }
   ],
   "source": [
    "# np.char.count used to count the number of the selected element in an array\n",
    "x = np.array(['Python', 'PHP', 'JS', 'EXAMPLES'])\n",
    "print(np.char.count(x, 'P'))\n",
    "print(np.char.find(x, 'P')) # returns the lowest index of occurence of an element"
   ]
  },
  {
   "cell_type": "markdown",
   "id": "667f94ff",
   "metadata": {},
   "source": [
    "## np.char.isdigit checks if the given elements are digits and returns a boolean\n",
    "### np.char.isupper checks if the given elements are in upper case and returns a boolean as well\n",
    "### np.char.islower checks for lower case and returns a boolean value\n",
    "### np.char.startswith checks whether an array starts with a certain character and returns a boolean"
   ]
  },
  {
   "cell_type": "code",
   "execution_count": null,
   "id": "69578de3",
   "metadata": {},
   "outputs": [],
   "source": [
    "# to add zeros\n",
    "num = np.array(['1.12', '2.23', '3.71', '4.23'])\n",
    "print(np.char.zfill(num, 6))\n",
    "print(np.char.add('00', num))\n",
    "print(np.char.rjust(num, 6, fillchar='0'))"
   ]
  },
  {
   "cell_type": "code",
   "execution_count": null,
   "id": "d052e5ae",
   "metadata": {},
   "outputs": [],
   "source": [
    "# array to replace a specific character with another \n",
    "x = np.array([['Python-numpy-exercise'],['-Python-']])\n",
    "y = np.char.replace(x, '-', '=')\n",
    "z = np.char.replace(y, '=', ' ')\n",
    "print(x)\n",
    "print(y)\n",
    "print(z)\n",
    "print(np.char.split(y))\n",
    "print(np.char.splitlines(z))"
   ]
  },
  {
   "cell_type": "markdown",
   "id": "f3fb8f80",
   "metadata": {},
   "source": [
    "## statistics"
   ]
  },
  {
   "cell_type": "code",
   "execution_count": 163,
   "id": "714a6f90",
   "metadata": {},
   "outputs": [
    {
     "name": "stdout",
     "output_type": "stream",
     "text": [
      "[[1 2]\n",
      " [3 4]]\n",
      "[1 3]\n",
      "4\n"
     ]
    }
   ],
   "source": [
    "# find minimum and maximum of a given array\n",
    "a = np.arange(1,5).reshape(2,2)\n",
    "min = np.min(a, axis=1)\n",
    "print(a)\n",
    "print(min)\n",
    "print(np.max(a))"
   ]
  },
  {
   "cell_type": "code",
   "execution_count": 164,
   "id": "29ac81bb",
   "metadata": {},
   "outputs": [
    {
     "data": {
      "text/plain": [
       "array([321099904,     32762])"
      ]
     },
     "execution_count": 164,
     "metadata": {},
     "output_type": "execute_result"
    }
   ],
   "source": [
    "b = np.empty(2, dtype='int')\n",
    "b"
   ]
  },
  {
   "cell_type": "code",
   "execution_count": 165,
   "id": "184a2197",
   "metadata": {},
   "outputs": [
    {
     "data": {
      "text/plain": [
       "array([[-1485105776,         508],\n",
       "       [          0,           0]])"
      ]
     },
     "execution_count": 165,
     "metadata": {},
     "output_type": "execute_result"
    }
   ],
   "source": [
    "b = np.empty((2,2), dtype='int')\n",
    "b"
   ]
  },
  {
   "cell_type": "code",
   "execution_count": 166,
   "id": "e81839e4",
   "metadata": {},
   "outputs": [
    {
     "name": "stdout",
     "output_type": "stream",
     "text": [
      "None\n",
      "[1 2 3 4]\n"
     ]
    }
   ],
   "source": [
    "# view and copy\n",
    "a = np.array([1,2,3,4])\n",
    "\n",
    "# create a copy and a view\n",
    "c = a.copy()\n",
    "v = a.view()\n",
    "\n",
    "# to find whether an array owns the data\n",
    "print(c.base)\n",
    "print(v.base)"
   ]
  },
  {
   "cell_type": "code",
   "execution_count": 167,
   "id": "696fd801",
   "metadata": {},
   "outputs": [
    {
     "name": "stdout",
     "output_type": "stream",
     "text": [
      "[-1485105776         508           0           0]\n",
      "[1 2 3 4]\n",
      "[1 2 3 4]\n"
     ]
    }
   ],
   "source": [
    "# copying a numpy array into another numpy array\n",
    "### use functions: np.empty_like, np.copy and assignment operator \n",
    "a = np.array([1,2,3,4])\n",
    "print(np.empty_like(a))\n",
    "print(np.copy(a))\n",
    "b = a \n",
    "print(b)"
   ]
  },
  {
   "cell_type": "code",
   "execution_count": 168,
   "id": "e86bdab8",
   "metadata": {},
   "outputs": [
    {
     "name": "stdout",
     "output_type": "stream",
     "text": [
      "%d: %d (array(0), array(0))\n",
      "%d: %d (array(1), array(1))\n",
      "%d: %d (array(2), array(2))\n",
      "%d: %d (array(3), array(3))\n",
      "%d: %d (array(4), array(4))\n",
      "%d: %d (array(0), array(5))\n",
      "%d: %d (array(1), array(6))\n",
      "%d: %d (array(2), array(7))\n",
      "%d: %d (array(3), array(8))\n",
      "%d: %d (array(4), array(9))\n"
     ]
    }
   ],
   "source": [
    "# combining one and a two dimensional array\n",
    "arr1 = np.arange(5)\n",
    "arr2 = np.arange(10).reshape(2,5)\n",
    "\n",
    "for a,b in np.nditer([arr1, arr2]):\n",
    "    print('%d: %d', (a,b))"
   ]
  },
  {
   "cell_type": "code",
   "execution_count": 176,
   "id": "0173f28c",
   "metadata": {},
   "outputs": [
    {
     "name": "stdout",
     "output_type": "stream",
     "text": [
      "PRINTING A\n",
      "[[1 2]\n",
      " [3 4]]\n",
      "\n",
      "PRINTING B\n",
      "[[5 6]\n",
      " [7 8]]\n",
      "\n",
      "ADD\n",
      "[[ 6  8]\n",
      " [10 12]]\n",
      "\n",
      "SUBTRACT\n",
      "[[-4 -4]\n",
      " [-4 -4]]\n",
      "\n",
      "DIVIDE\n",
      "[[0.2        0.33333333]\n",
      " [0.42857143 0.5       ]]\n",
      "\n",
      "MULTIPLY\n",
      "[[ 5 12]\n",
      " [21 32]]\n",
      "\n",
      "DOT MULTIPLY\n",
      "[[19 22]\n",
      " [43 50]]\n",
      "\n",
      "A TRANSPOSE\n",
      "[[1 3]\n",
      " [2 4]]\n",
      "\n",
      "10\n",
      "[[1.         1.41421356]\n",
      " [1.73205081 2.        ]]\n"
     ]
    }
   ],
   "source": [
    "#numpy manipulation\n",
    "# use functions such as add(), subtract(), divide(), multiply() for elementwise calculations and dot() for matrix multiplication\n",
    "# use sum(), sqrt(), and T for transpose\n",
    "a = np.array([[1,2], [3,4]])\n",
    "b = np.array([[5,6], [7,8]])\n",
    "\n",
    "print('PRINTING A')\n",
    "print(a)\n",
    "print()\n",
    "\n",
    "print('PRINTING B')\n",
    "print(b)\n",
    "print()\n",
    "\n",
    "print('ADD')\n",
    "print(np.add(a,b))\n",
    "print()\n",
    "\n",
    "print('SUBTRACT')\n",
    "print(np.subtract(a,b))\n",
    "print()\n",
    "\n",
    "print('DIVIDE')\n",
    "print(np.divide(a,b))\n",
    "print()\n",
    "\n",
    "print('MULTIPLY')\n",
    "print(np.multiply(a,b))\n",
    "print()\n",
    "\n",
    "print('DOT MULTIPLY')\n",
    "print(np.dot(a,b))\n",
    "print()\n",
    "\n",
    "print('A TRANSPOSE')\n",
    "print(a.T)\n",
    "print()\n",
    "\n",
    "print(np.sum(a))\n",
    "print(np.sqrt(a))"
   ]
  },
  {
   "cell_type": "code",
   "execution_count": 182,
   "id": "7a80653d",
   "metadata": {},
   "outputs": [
    {
     "name": "stdout",
     "output_type": "stream",
     "text": [
      "[1 2 3]\n",
      "\n",
      "[[1 2 4]\n",
      " [3 4 5]]\n"
     ]
    },
    {
     "data": {
      "text/plain": [
       "array([[ 1,  4, 12],\n",
       "       [ 3,  8, 15]])"
      ]
     },
     "execution_count": 182,
     "metadata": {},
     "output_type": "execute_result"
    }
   ],
   "source": [
    "one = np.array([1,2,3])\n",
    "two = np.array([[1,2,4], [3,4,5]])\n",
    "\n",
    "print(one)\n",
    "print()\n",
    "print(two)\n",
    "\n",
    "np.multiply(one, two)"
   ]
  },
  {
   "cell_type": "code",
   "execution_count": 183,
   "id": "177f6e1f",
   "metadata": {},
   "outputs": [],
   "source": [
    "# np.dot(one, two)"
   ]
  },
  {
   "cell_type": "code",
   "execution_count": 193,
   "id": "90202c92",
   "metadata": {},
   "outputs": [
    {
     "name": "stdout",
     "output_type": "stream",
     "text": [
      "[-0.15206735 13.15206735]\n"
     ]
    }
   ],
   "source": [
    "# compute eigen values\n",
    "b = np.array([[5,6], [7,8]])\n",
    "print(np.linalg.eigvals(b))"
   ]
  },
  {
   "cell_type": "code",
   "execution_count": 192,
   "id": "de109a33",
   "metadata": {},
   "outputs": [
    {
     "name": "stdout",
     "output_type": "stream",
     "text": [
      "0.25\n"
     ]
    }
   ],
   "source": [
    "# compute variance of a matrix\n",
    "b = np.array([5,6])\n",
    "print(np.var(b))"
   ]
  },
  {
   "cell_type": "code",
   "execution_count": 191,
   "id": "b92d13df",
   "metadata": {},
   "outputs": [
    {
     "name": "stdout",
     "output_type": "stream",
     "text": [
      "[[-4.   3. ]\n",
      " [ 3.5 -2.5]]\n"
     ]
    }
   ],
   "source": [
    "# inverse of a matrix\n",
    "b = np.array([[5,6], [7,8]])\n",
    "print(np.linalg.inv(b))"
   ]
  },
  {
   "cell_type": "code",
   "execution_count": 190,
   "id": "f5ac7acb",
   "metadata": {},
   "outputs": [
    {
     "name": "stdout",
     "output_type": "stream",
     "text": [
      "['geeks', 'for', 'geeks']\n"
     ]
    }
   ],
   "source": [
    "# np.split returns a list of strings after breaking the given string by a specified seperator(sep) or delimiter\n",
    "print(np.char.split('geeks for geeks'), sep='-')"
   ]
  },
  {
   "cell_type": "code",
   "execution_count": 189,
   "id": "ebf7c373",
   "metadata": {},
   "outputs": [
    {
     "name": "stdout",
     "output_type": "stream",
     "text": [
      "g-e-e-k-s\n",
      "['g-e-e-k-s' 'f:o:r']\n"
     ]
    }
   ],
   "source": [
    "# np.join is a string method that returns a string in wich the elemnts of a sequence have joined by str seperator\n",
    "print(np.char.join('-', 'geeks'))\n",
    "print(np.char.join(['-', ':'], ['geeks', 'for']))"
   ]
  },
  {
   "cell_type": "code",
   "execution_count": 185,
   "id": "229b86f4",
   "metadata": {},
   "outputs": [
    {
     "name": "stdout",
     "output_type": "stream",
     "text": [
      "-----geeksforgeeks--------\n",
      "geeksforgeeks\n",
      "-----geeksforgeeks\n",
      "geeksforgeeks--------\n"
     ]
    }
   ],
   "source": [
    "# np.strip/lstrip/rstrip is used to remove all the leading and trailing spaces from a string\n",
    "str = '-----geeksforgeeks--------'\n",
    "print(str)\n",
    "print(str.strip('-'))\n",
    "print(str.rstrip('-'))\n",
    "print(str.lstrip('-'))"
   ]
  },
  {
   "cell_type": "code",
   "execution_count": 188,
   "id": "1340cd85",
   "metadata": {},
   "outputs": [
    {
     "name": "stdout",
     "output_type": "stream",
     "text": [
      "geeks for geeks\n"
     ]
    }
   ],
   "source": [
    "# replace a string\n",
    "str = 'nerds for nerds'\n",
    "print(str.replace('nerds', 'geeks'))\n"
   ]
  },
  {
   "cell_type": "markdown",
   "id": "52eb2ffd",
   "metadata": {},
   "source": [
    "### np.count function returns the number of occrurences of a substring in the given string\n",
    "### np.find function returns the lowetst index of the substring in a given string. If not found it gives -1\n",
    "### np.isnumeric function returns True if all characters are numeric characters otherwise false\n",
    "### np.index function returns position of the first occurence of substring in a string\n",
    "### np.isalpha fuction returns true if all characters in the string are alphabets otherwise false\n",
    "### np.isdecimal returns true if all characters in a string are decimal\n",
    "### np.isdigit if digits in a string returns true\n",
    "### np.startswith fucntion returns true if a string starts with the given prefix otherwise false\n",
    "### np.isupper, islower, istitle functions work the same\n",
    "### np.equal, not_equal, greater, greater_equal, less_equal, less functions compare strings "
   ]
  },
  {
   "cell_type": "code",
   "execution_count": 187,
   "id": "45980246",
   "metadata": {},
   "outputs": [
    {
     "name": "stdout",
     "output_type": "stream",
     "text": [
      "[[1 2 3]\n",
      " [4 5 6]]\n",
      "\n",
      "[1 2 3 4 5 6]\n"
     ]
    }
   ],
   "source": [
    "# flatten \n",
    "a = np.array([[1,2,3], [4,5,6]])\n",
    "print(a)\n",
    "print()\n",
    "# flatten to 1-D array/matrix\n",
    "print(a.flatten())"
   ]
  },
  {
   "cell_type": "code",
   "execution_count": null,
   "id": "d880d074",
   "metadata": {},
   "outputs": [],
   "source": []
  }
 ],
 "metadata": {
  "kernelspec": {
   "display_name": "Python 3",
   "language": "python",
   "name": "python3"
  },
  "language_info": {
   "codemirror_mode": {
    "name": "ipython",
    "version": 3
   },
   "file_extension": ".py",
   "mimetype": "text/x-python",
   "name": "python",
   "nbconvert_exporter": "python",
   "pygments_lexer": "ipython3",
   "version": "3.8.8"
  }
 },
 "nbformat": 4,
 "nbformat_minor": 5
}
